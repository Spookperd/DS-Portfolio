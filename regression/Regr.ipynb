{
 "cells": [
  {
   "cell_type": "markdown",
   "metadata": {},
   "source": [
    "# Regression\n",
    "\n",
    "In this notebook, we will demonstrate regression skills using the Automobile dataset."
   ]
  },
  {
   "cell_type": "markdown",
   "metadata": {},
   "source": [
    "## Introduction\n",
    "\n",
    "The Automobile dataset contains information about various cars, including their specifications, prices, and other attributes. This dataset can be used for various data science tasks, such as regression, classification, and clustering. The dataset can be downloaded from [Automobile Dataset on Kaggle](https://www.kaggle.com/toramky/automobile-dataset).\n"
   ]
  },
  {
   "cell_type": "markdown",
   "metadata": {},
   "source": [
    "### Dataset Description\n",
    "\n",
    "| Feature Columns | Description |\n",
    "| ----------- | ----------- |\n",
    "| symboling | Assigned insurance risk rating. A value of +3 indicates the highest risk, while a value of -3 indicates the lowest risk. |\n",
    "| normalized-losses | The relative average loss payment per insured vehicle year. This value is normalized for all autos within a particular size classification (two-door small, station wagons, sports/speciality, etc.). |\n",
    "| make | The manufacturer of the car. |\n",
    "| fuel-type | The type of fuel the car uses (diesel, gas). |\n",
    "| aspiration | The type of aspiration for the engine (standard, turbo). |\n",
    "| num-of-doors | The number of doors the car has (two, four). |\n",
    "| body-style | The body style of the car (convertible, hardtop, hatchback, sedan, wagon). |\n",
    "| drive-wheels | The type of drive the car has (4wd, fwd, rwd). |\n",
    "| engine-location | The location of the engine in the car (front, rear). |\n",
    "| wheel-base | The car's wheelbase in inches. |\n",
    "| length | The car's length in inches. |\n",
    "| width | The car's width in inches. |\n",
    "| height | The car's height in inches. |\n",
    "| curb-weight | The car's curb weight in pounds. |\n",
    "| engine-type | The type of engine the car has (dohc, dohcv, l, ohc, ohcf, ohcv, rotor). |\n",
    "| num-of-cylinders | The number of cylinders the engine has (eight, five, four, six, three, twelve, two). |\n",
    "| engine-size | The engine size in cubic inches. |\n",
    "| fuel-system | The car's fuel system (1bbl, 2bbl, 4bbl, idi, mfi, mpfi, spdi, spfi). |\n",
    "| bore | The engine's bore in inches. |\n",
    "| stroke | The engine's stroke in inches. |\n",
    "| compression-ratio | The engine's compression ratio. |\n",
    "| horsepower | The car's horsepower. |\n",
    "| peak-rpm | The car's peak RPM. |\n",
    "| city-mpg | The car's city miles per gallon. |\n",
    "| highway-mpg | The car's highway miles per gallon. |\n",
    "| **Target Columns** | **Description** |\n",
    "| price | The car's price. |"
   ]
  },
  {
   "cell_type": "markdown",
   "metadata": {},
   "source": [
    "## Import Libraries and Load Data"
   ]
  },
  {
   "cell_type": "code",
   "execution_count": 29,
   "metadata": {},
   "outputs": [
    {
     "data": {
      "text/html": [
       "<div>\n",
       "<style scoped>\n",
       "    .dataframe tbody tr th:only-of-type {\n",
       "        vertical-align: middle;\n",
       "    }\n",
       "\n",
       "    .dataframe tbody tr th {\n",
       "        vertical-align: top;\n",
       "    }\n",
       "\n",
       "    .dataframe thead th {\n",
       "        text-align: right;\n",
       "    }\n",
       "</style>\n",
       "<table border=\"1\" class=\"dataframe\">\n",
       "  <thead>\n",
       "    <tr style=\"text-align: right;\">\n",
       "      <th></th>\n",
       "      <th>Unnamed: 0</th>\n",
       "      <th>make</th>\n",
       "      <th>fuel-type</th>\n",
       "      <th>aspiration</th>\n",
       "      <th>num-of-doors</th>\n",
       "      <th>body-style</th>\n",
       "      <th>drive-wheels</th>\n",
       "      <th>engine-location</th>\n",
       "      <th>wheel-base</th>\n",
       "      <th>length</th>\n",
       "      <th>width</th>\n",
       "      <th>height</th>\n",
       "      <th>curb-weight</th>\n",
       "      <th>engine-type</th>\n",
       "      <th>num-of-cylinders</th>\n",
       "      <th>engine-size</th>\n",
       "      <th>fuel-system</th>\n",
       "      <th>bore</th>\n",
       "      <th>stroke</th>\n",
       "      <th>compression-ratio</th>\n",
       "      <th>horsepower</th>\n",
       "      <th>peak-rpm</th>\n",
       "      <th>price</th>\n",
       "      <th>city-L/100km</th>\n",
       "      <th>highway-L/100km</th>\n",
       "    </tr>\n",
       "  </thead>\n",
       "  <tbody>\n",
       "    <tr>\n",
       "      <th>0</th>\n",
       "      <td>0</td>\n",
       "      <td>alfa-romero</td>\n",
       "      <td>gas</td>\n",
       "      <td>std</td>\n",
       "      <td>two</td>\n",
       "      <td>convertible</td>\n",
       "      <td>rwd</td>\n",
       "      <td>front</td>\n",
       "      <td>88.6</td>\n",
       "      <td>0.811148</td>\n",
       "      <td>0.890278</td>\n",
       "      <td>0.816054</td>\n",
       "      <td>2548</td>\n",
       "      <td>dohc</td>\n",
       "      <td>four</td>\n",
       "      <td>130</td>\n",
       "      <td>mpfi</td>\n",
       "      <td>3.47</td>\n",
       "      <td>2.68</td>\n",
       "      <td>9.0</td>\n",
       "      <td>111.0</td>\n",
       "      <td>5000.0</td>\n",
       "      <td>13495.0</td>\n",
       "      <td>11.190476</td>\n",
       "      <td>8.703704</td>\n",
       "    </tr>\n",
       "    <tr>\n",
       "      <th>1</th>\n",
       "      <td>1</td>\n",
       "      <td>alfa-romero</td>\n",
       "      <td>gas</td>\n",
       "      <td>std</td>\n",
       "      <td>two</td>\n",
       "      <td>convertible</td>\n",
       "      <td>rwd</td>\n",
       "      <td>front</td>\n",
       "      <td>88.6</td>\n",
       "      <td>0.811148</td>\n",
       "      <td>0.890278</td>\n",
       "      <td>0.816054</td>\n",
       "      <td>2548</td>\n",
       "      <td>dohc</td>\n",
       "      <td>four</td>\n",
       "      <td>130</td>\n",
       "      <td>mpfi</td>\n",
       "      <td>3.47</td>\n",
       "      <td>2.68</td>\n",
       "      <td>9.0</td>\n",
       "      <td>111.0</td>\n",
       "      <td>5000.0</td>\n",
       "      <td>16500.0</td>\n",
       "      <td>11.190476</td>\n",
       "      <td>8.703704</td>\n",
       "    </tr>\n",
       "    <tr>\n",
       "      <th>2</th>\n",
       "      <td>2</td>\n",
       "      <td>alfa-romero</td>\n",
       "      <td>gas</td>\n",
       "      <td>std</td>\n",
       "      <td>two</td>\n",
       "      <td>hatchback</td>\n",
       "      <td>rwd</td>\n",
       "      <td>front</td>\n",
       "      <td>94.5</td>\n",
       "      <td>0.822681</td>\n",
       "      <td>0.909722</td>\n",
       "      <td>0.876254</td>\n",
       "      <td>2823</td>\n",
       "      <td>ohcv</td>\n",
       "      <td>six</td>\n",
       "      <td>152</td>\n",
       "      <td>mpfi</td>\n",
       "      <td>2.68</td>\n",
       "      <td>3.47</td>\n",
       "      <td>9.0</td>\n",
       "      <td>154.0</td>\n",
       "      <td>5000.0</td>\n",
       "      <td>16500.0</td>\n",
       "      <td>12.368421</td>\n",
       "      <td>9.038462</td>\n",
       "    </tr>\n",
       "    <tr>\n",
       "      <th>3</th>\n",
       "      <td>3</td>\n",
       "      <td>audi</td>\n",
       "      <td>gas</td>\n",
       "      <td>std</td>\n",
       "      <td>four</td>\n",
       "      <td>sedan</td>\n",
       "      <td>fwd</td>\n",
       "      <td>front</td>\n",
       "      <td>99.8</td>\n",
       "      <td>0.848630</td>\n",
       "      <td>0.919444</td>\n",
       "      <td>0.908027</td>\n",
       "      <td>2337</td>\n",
       "      <td>ohc</td>\n",
       "      <td>four</td>\n",
       "      <td>109</td>\n",
       "      <td>mpfi</td>\n",
       "      <td>3.19</td>\n",
       "      <td>3.40</td>\n",
       "      <td>10.0</td>\n",
       "      <td>102.0</td>\n",
       "      <td>5500.0</td>\n",
       "      <td>13950.0</td>\n",
       "      <td>9.791667</td>\n",
       "      <td>7.833333</td>\n",
       "    </tr>\n",
       "    <tr>\n",
       "      <th>4</th>\n",
       "      <td>4</td>\n",
       "      <td>audi</td>\n",
       "      <td>gas</td>\n",
       "      <td>std</td>\n",
       "      <td>four</td>\n",
       "      <td>sedan</td>\n",
       "      <td>4wd</td>\n",
       "      <td>front</td>\n",
       "      <td>99.4</td>\n",
       "      <td>0.848630</td>\n",
       "      <td>0.922222</td>\n",
       "      <td>0.908027</td>\n",
       "      <td>2824</td>\n",
       "      <td>ohc</td>\n",
       "      <td>five</td>\n",
       "      <td>136</td>\n",
       "      <td>mpfi</td>\n",
       "      <td>3.19</td>\n",
       "      <td>3.40</td>\n",
       "      <td>8.0</td>\n",
       "      <td>115.0</td>\n",
       "      <td>5500.0</td>\n",
       "      <td>17450.0</td>\n",
       "      <td>13.055556</td>\n",
       "      <td>10.681818</td>\n",
       "    </tr>\n",
       "  </tbody>\n",
       "</table>\n",
       "</div>"
      ],
      "text/plain": [
       "   Unnamed: 0         make fuel-type aspiration num-of-doors   body-style  \\\n",
       "0           0  alfa-romero       gas        std          two  convertible   \n",
       "1           1  alfa-romero       gas        std          two  convertible   \n",
       "2           2  alfa-romero       gas        std          two    hatchback   \n",
       "3           3         audi       gas        std         four        sedan   \n",
       "4           4         audi       gas        std         four        sedan   \n",
       "\n",
       "  drive-wheels engine-location  wheel-base    length     width    height  \\\n",
       "0          rwd           front        88.6  0.811148  0.890278  0.816054   \n",
       "1          rwd           front        88.6  0.811148  0.890278  0.816054   \n",
       "2          rwd           front        94.5  0.822681  0.909722  0.876254   \n",
       "3          fwd           front        99.8  0.848630  0.919444  0.908027   \n",
       "4          4wd           front        99.4  0.848630  0.922222  0.908027   \n",
       "\n",
       "   curb-weight engine-type num-of-cylinders  engine-size fuel-system  bore  \\\n",
       "0         2548        dohc             four          130        mpfi  3.47   \n",
       "1         2548        dohc             four          130        mpfi  3.47   \n",
       "2         2823        ohcv              six          152        mpfi  2.68   \n",
       "3         2337         ohc             four          109        mpfi  3.19   \n",
       "4         2824         ohc             five          136        mpfi  3.19   \n",
       "\n",
       "   stroke  compression-ratio  horsepower  peak-rpm    price  city-L/100km  \\\n",
       "0    2.68                9.0       111.0    5000.0  13495.0     11.190476   \n",
       "1    2.68                9.0       111.0    5000.0  16500.0     11.190476   \n",
       "2    3.47                9.0       154.0    5000.0  16500.0     12.368421   \n",
       "3    3.40               10.0       102.0    5500.0  13950.0      9.791667   \n",
       "4    3.40                8.0       115.0    5500.0  17450.0     13.055556   \n",
       "\n",
       "   highway-L/100km  \n",
       "0         8.703704  \n",
       "1         8.703704  \n",
       "2         9.038462  \n",
       "3         7.833333  \n",
       "4        10.681818  "
      ]
     },
     "execution_count": 29,
     "metadata": {},
     "output_type": "execute_result"
    }
   ],
   "source": [
    "import pandas as pd\n",
    "import numpy as np\n",
    "from sklearn.model_selection import train_test_split\n",
    "from sklearn.linear_model import LinearRegression\n",
    "from sklearn.metrics import mean_squared_error, r2_score,mean_absolute_error\n",
    "from sklearn.model_selection import GridSearchCV\n",
    "from sklearn.tree import DecisionTreeRegressor\n",
    "from sklearn.ensemble import RandomForestRegressor\n",
    "from sklearn.svm import SVR\n",
    "from sklearn.neighbors import KNeighborsRegressor\n",
    "from sklearn.preprocessing import StandardScaler\n",
    "pd.options.display.max_columns = None\n",
    "pd.options.display.max_colwidth = 1000\n",
    "# Initialize a list to store the results of each model\n",
    "results = []\n",
    "\n",
    "df = pd.read_csv('Auto_Data_Proc.csv')\n",
    "df['price'] = df['price'].astype(float)\n",
    "df.head()"
   ]
  },
  {
   "cell_type": "markdown",
   "metadata": {},
   "source": [
    "## Prepare Data for Regression"
   ]
  },
  {
   "cell_type": "code",
   "execution_count": 12,
   "metadata": {},
   "outputs": [],
   "source": [
    "# Use 'engine-size' as the predictor\n",
    "X = df.drop('price',axis=1)\n",
    "y = df['price']\n",
    "X = pd.get_dummies(X)\n",
    "\n",
    "# Split the data into training and testing sets\n",
    "X_train, X_test, y_train, y_test = train_test_split(X, y, test_size=0.2, random_state=0)"
   ]
  },
  {
   "cell_type": "code",
   "execution_count": 16,
   "metadata": {},
   "outputs": [],
   "source": [
    "Scaler = StandardScaler()\n",
    "Scaled_X_train = Scaler.fit_transform(X_train)\n",
    "Scaled_X_test = Scaler.transform(X_test)"
   ]
  },
  {
   "cell_type": "code",
   "execution_count": 18,
   "metadata": {},
   "outputs": [],
   "source": [
    "X_train = Scaled_X_train\n",
    "X_test = Scaled_X_test"
   ]
  },
  {
   "cell_type": "markdown",
   "metadata": {},
   "source": [
    "## Regression Models"
   ]
  },
  {
   "cell_type": "markdown",
   "metadata": {},
   "source": [
    "## Models Considered\n",
    "\n",
    "1. **Linear Regression**: Linear Regression is a simple model that assumes a linear relationship between the input features and the target variable. It's applicable when the relationship between input features and the target variable is approximately linear.\n",
    "\n",
    "2. **Decision Tree Regressor**: Decision Tree Regressor is a tree-based model that recursively splits the input features into subsets to minimize the variance in the target variable. It's applicable when the dataset has complex relationships that can be modeled using hierarchical decisions.\n",
    "\n",
    "3. **Random Forest Regressor**: Random Forest Regressor is an ensemble model that combines multiple decision tree regressors, each trained on a random subset of the input features. It's applicable when the dataset has complex relationships that can benefit from the averaging of multiple decision trees, reducing overfitting and improving the model's generalization.\n",
    "\n",
    "4. **Support Vector Regressor**: Support Vector Regressor is a kernel-based model that transforms the input features into a higher-dimensional space and finds the best linear relationship in that space. It's applicable when the dataset has non-linear relationships that can be modeled more effectively in a higher-dimensional space.\n",
    "\n",
    "5. **K-Nearest Neighbors Regressor**: K-Nearest Neighbors Regressor is a distance-based model that predicts the target variable based on the average of the target values of the k-nearest neighbors in the input feature space. It's applicable when the dataset has complex relationships that can be modeled by considering local similarities between data points.\n",
    "\n",
    "6. **Polynomial Regression**: Polynomial Regression is an extension of Linear Regression that models the relationship between input features and the target variable as an nth-degree polynomial. It's applicable when the dataset has non-linear relationships that can be modeled using higher-degree polynomials.\n"
   ]
  },
  {
   "cell_type": "markdown",
   "metadata": {},
   "source": [
    "## Linear Regression"
   ]
  },
  {
   "cell_type": "code",
   "execution_count": 30,
   "metadata": {},
   "outputs": [
    {
     "name": "stdout",
     "output_type": "stream",
     "text": [
      "0.9583190156037937\n"
     ]
    }
   ],
   "source": [
    "from sklearn.linear_model import Ridge\n",
    "\n",
    "# Create and train the Linear Regression model with GridSearchCV\n",
    "ridge_params = {'alpha': [0.001, 0.01, 0.1, 1, 10, 100]}\n",
    "ridge = Ridge()\n",
    "ridge_grid = GridSearchCV(ridge, ridge_params, cv=5, scoring='neg_mean_squared_error')\n",
    "ridge_grid.fit(X_train, y_train)\n",
    "\n",
    "# Predict the test set\n",
    "y_pred_ridge = ridge_grid.predict(X_test)\n",
    "\n",
    "# Evaluate the model\n",
    "mae_ridge = mean_absolute_error(y_test, y_pred_ridge)\n",
    "r2_ridge = r2_score(y_test, y_pred_ridge)\n",
    "\n",
    "results.append({'model': 'Linear Regression', 'mse': mae_ridge, 'r2': r2_ridge})\n",
    "print(r2_ridge)"
   ]
  },
  {
   "cell_type": "markdown",
   "metadata": {},
   "source": [
    "## Decision Tree Regressor"
   ]
  },
  {
   "cell_type": "code",
   "execution_count": 31,
   "metadata": {},
   "outputs": [],
   "source": [
    "# Create and train the Decision Tree model with GridSearchCV\n",
    "tree_params = {'max_depth': range(1, 11), 'min_samples_split': range(2, 21)}\n",
    "tree = DecisionTreeRegressor()\n",
    "tree_grid = GridSearchCV(tree, tree_params, cv=5, scoring='neg_mean_squared_error')\n",
    "tree_grid.fit(X_train, y_train)\n",
    "\n",
    "# Predict the test set\n",
    "y_pred_tree = tree_grid.predict(X_test)\n",
    "\n",
    "# Evaluate the model\n",
    "mae_tree = mean_absolute_error(y_test, y_pred_tree)\n",
    "r2_tree = r2_score(y_test, y_pred_tree)\n",
    "\n",
    "results.append({'model': 'Decision Tree', 'mse': mae_tree, 'r2': r2_tree})"
   ]
  },
  {
   "cell_type": "code",
   "execution_count": 32,
   "metadata": {},
   "outputs": [],
   "source": [
    "# Create and train the linear regression model\n",
    "model = LinearRegression()\n",
    "model.fit(X_train, y_train)\n",
    "\n",
    "# Predict the test set\n",
    "y_pred = model.predict(X_test)"
   ]
  },
  {
   "cell_type": "markdown",
   "metadata": {},
   "source": [
    "## Evaluate the Model"
   ]
  },
  {
   "cell_type": "markdown",
   "metadata": {},
   "source": [
    "## Random Forest Regressor"
   ]
  },
  {
   "cell_type": "code",
   "execution_count": 33,
   "metadata": {},
   "outputs": [],
   "source": [
    "# Create and train the Random Forest model with GridSearchCV\n",
    "forest_params = {'n_estimators': range(10, 101, 10), 'max_depth': range(1, 11)}\n",
    "forest = RandomForestRegressor()\n",
    "forest_grid = GridSearchCV(forest, forest_params, cv=5, scoring='neg_mean_squared_error')\n",
    "forest_grid.fit(X_train, y_train)\n",
    "\n",
    "# Predict the test set\n",
    "y_pred_forest = forest_grid.predict(X_test)\n",
    "\n",
    "# Evaluate the model\n",
    "mae_forest = mean_absolute_error(y_test, y_pred_forest)\n",
    "r2_forest = r2_score(y_test, y_pred_forest)\n",
    "\n",
    "results.append({'model': 'Random Forest', 'mse': mae_forest, 'r2': r2_forest})\n"
   ]
  },
  {
   "cell_type": "markdown",
   "metadata": {},
   "source": [
    "## Support Vector Regressor"
   ]
  },
  {
   "cell_type": "code",
   "execution_count": 34,
   "metadata": {},
   "outputs": [],
   "source": [
    "# Create and train the Support Vector Regressor model with GridSearchCV\n",
    "svm_params = {'C': [0.1, 1, 10], 'epsilon': [0.01, 0.1, 1]}\n",
    "svm = SVR(kernel='linear')\n",
    "svm_grid = GridSearchCV(svm, svm_params, cv=5, scoring='neg_mean_squared_error')\n",
    "svm_grid.fit(X_train, y_train)\n",
    "\n",
    "# Predict the test set\n",
    "y_pred_svm = svm_grid.predict(X_test)\n",
    "\n",
    "# Evaluate the model\n",
    "mae_svm = mean_absolute_error(y_test, y_pred_svm)\n",
    "r2_svm = r2_score(y_test, y_pred_svm)\n",
    "\n",
    "results.append({'model': 'Support Vector Regressor', 'mse': mae_svm, 'r2': r2_svm})\n"
   ]
  },
  {
   "cell_type": "markdown",
   "metadata": {},
   "source": [
    "## K-Nearest Neighbors Regressor"
   ]
  },
  {
   "cell_type": "code",
   "execution_count": 35,
   "metadata": {},
   "outputs": [],
   "source": [
    "# Create and train the K-Nearest Neighbors Regressor model with GridSearchCV\n",
    "knn_params = {'n_neighbors': range(1, 31), 'weights': ['uniform', 'distance']}\n",
    "knn = KNeighborsRegressor()\n",
    "knn_grid = GridSearchCV(knn, knn_params, cv=5, scoring='neg_mean_squared_error')\n",
    "knn_grid.fit(X_train, y_train)\n",
    "\n",
    "# Predict the test set\n",
    "y_pred_knn = knn_grid.predict(X_test)\n",
    "\n",
    "# Evaluate the model\n",
    "mae_knn = mean_absolute_error(y_test, y_pred_knn)\n",
    "r2_knn = r2_score(y_test, y_pred_knn)\n",
    "results.append({'model': 'Support Vector Regressor', 'mse': mae_knn, 'r2': r2_knn})"
   ]
  },
  {
   "cell_type": "markdown",
   "metadata": {},
   "source": [
    "## Comparing Models"
   ]
  },
  {
   "cell_type": "code",
   "execution_count": 47,
   "metadata": {},
   "outputs": [],
   "source": [
    "\n",
    "# Create the results DataFrame\n",
    "results_df = pd.DataFrame(results, columns=['model', 'mse', 'r2'])\n",
    "\n",
    "# Sort the results by R-squared score in descending order\n",
    "results_df.sort_values(by='r2', ascending=False, inplace=True)\n",
    "\n",
    "# Display the results DataFrame\n",
    "results_df.reset_index(drop=True, inplace=True)\n",
    "results_df[\"RE\"] = round(results_df['mse']/df['price'].mean()*100,1)\n",
    "results_df[\"mse\"] = round(results_df[\"mse\"],0)\n",
    "results_df[\"r2\"] = round(results_df[\"r2\"],2)"
   ]
  },
  {
   "cell_type": "code",
   "execution_count": 48,
   "metadata": {},
   "outputs": [
    {
     "data": {
      "text/html": [
       "<div>\n",
       "<style scoped>\n",
       "    .dataframe tbody tr th:only-of-type {\n",
       "        vertical-align: middle;\n",
       "    }\n",
       "\n",
       "    .dataframe tbody tr th {\n",
       "        vertical-align: top;\n",
       "    }\n",
       "\n",
       "    .dataframe thead th {\n",
       "        text-align: right;\n",
       "    }\n",
       "</style>\n",
       "<table border=\"1\" class=\"dataframe\">\n",
       "  <thead>\n",
       "    <tr style=\"text-align: right;\">\n",
       "      <th></th>\n",
       "      <th>model</th>\n",
       "      <th>mse</th>\n",
       "      <th>r2</th>\n",
       "      <th>RE</th>\n",
       "    </tr>\n",
       "  </thead>\n",
       "  <tbody>\n",
       "    <tr>\n",
       "      <th>0</th>\n",
       "      <td>Linear Regression</td>\n",
       "      <td>1184.0</td>\n",
       "      <td>0.96</td>\n",
       "      <td>8.9</td>\n",
       "    </tr>\n",
       "    <tr>\n",
       "      <th>1</th>\n",
       "      <td>Random Forest</td>\n",
       "      <td>1407.0</td>\n",
       "      <td>0.94</td>\n",
       "      <td>10.6</td>\n",
       "    </tr>\n",
       "    <tr>\n",
       "      <th>2</th>\n",
       "      <td>Decision Tree</td>\n",
       "      <td>1780.0</td>\n",
       "      <td>0.89</td>\n",
       "      <td>13.4</td>\n",
       "    </tr>\n",
       "    <tr>\n",
       "      <th>3</th>\n",
       "      <td>Support Vector Regressor</td>\n",
       "      <td>2307.0</td>\n",
       "      <td>0.75</td>\n",
       "      <td>17.4</td>\n",
       "    </tr>\n",
       "    <tr>\n",
       "      <th>4</th>\n",
       "      <td>Support Vector Regressor</td>\n",
       "      <td>2874.0</td>\n",
       "      <td>0.64</td>\n",
       "      <td>21.7</td>\n",
       "    </tr>\n",
       "  </tbody>\n",
       "</table>\n",
       "</div>"
      ],
      "text/plain": [
       "                      model     mse    r2    RE\n",
       "0         Linear Regression  1184.0  0.96   8.9\n",
       "1             Random Forest  1407.0  0.94  10.6\n",
       "2             Decision Tree  1780.0  0.89  13.4\n",
       "3  Support Vector Regressor  2307.0  0.75  17.4\n",
       "4  Support Vector Regressor  2874.0  0.64  21.7"
      ]
     },
     "execution_count": 48,
     "metadata": {},
     "output_type": "execute_result"
    }
   ],
   "source": [
    "results_df"
   ]
  },
  {
   "cell_type": "markdown",
   "metadata": {},
   "source": [
    "In this case, the Linear Regression model outperforms the other models significantly. It has a R$^2$ value of 0.95, and a relative error of 9% which is likely more than good enough for most use cases. "
   ]
  },
  {
   "cell_type": "markdown",
   "metadata": {},
   "source": [
    "## Conclusion\n",
    "\n",
    "In this notebook, we demonstrated regression skills by predicting the price of automobiles using engine size as the predictor. We used a linear regression model and evaluated its performance using mean squared error and R-squared score."
   ]
  }
 ],
 "metadata": {
  "kernelspec": {
   "display_name": "Python 3 (ipykernel)",
   "language": "python",
   "name": "python3"
  },
  "language_info": {
   "codemirror_mode": {
    "name": "ipython",
    "version": 3
   },
   "file_extension": ".py",
   "mimetype": "text/x-python",
   "name": "python",
   "nbconvert_exporter": "python",
   "pygments_lexer": "ipython3",
   "version": "3.10.9"
  }
 },
 "nbformat": 4,
 "nbformat_minor": 4
}
